{
  "cells": [
    {
      "cell_type": "markdown",
      "metadata": {
        "id": "dkWqBThazHbg"
      },
      "source": [
        "# AND関数の学習\n",
        "\n",
        "本ノートブックでは、ニューラルネットワークによりAND関数 AND(a,b)の学習を行います。"
      ]
    },
    {
      "cell_type": "markdown",
      "metadata": {
        "id": "7VoXYx8LzHbi"
      },
      "source": [
        "## 必要なパッケージのインポート"
      ]
    },
    {
      "cell_type": "code",
      "execution_count": null,
      "metadata": {
        "id": "TqKrZrSNzHbj"
      },
      "outputs": [],
      "source": [
        "import torch # テンソル計算など\n",
        "import torch.nn as nn  # ネットワーク構築用\n",
        "import torch.optim as optim  # 最適化関数"
      ]
    },
    {
      "cell_type": "markdown",
      "metadata": {
        "id": "RB4eeNb5zHbq"
      },
      "source": [
        "## グローバル定数の設定"
      ]
    },
    {
      "cell_type": "code",
      "execution_count": null,
      "metadata": {
        "id": "hgikue7wzHbr"
      },
      "outputs": [],
      "source": [
        "mbs = 5 # ミニバッチサイズ"
      ]
    },
    {
      "cell_type": "markdown",
      "metadata": {
        "id": "oCsaJp_8zHbv"
      },
      "source": [
        "## ネットワークの定義"
      ]
    },
    {
      "cell_type": "code",
      "execution_count": null,
      "metadata": {
        "id": "ytdleehVzHbv"
      },
      "outputs": [],
      "source": [
        "class Net(nn.Module): # nn.Module を継承\n",
        "    def __init__(self): # コンストラクタ\n",
        "        super(Net, self).__init__()\n",
        "        self.fc1 = nn.Linear(2, 2)  # 1層目．W_1, b_1を含む, 2次元入力, 2次元出力\n",
        "        self.fc2 = nn.Linear(2, 1)  # 2層目．W_2, b_2を含む, 2次元入力, 1次元出力\n",
        "    def forward(self, x): # 推論計算をforwardに書く\n",
        "        x = torch.sigmoid(self.fc1(x)) # 活性化関数としてシグモイド関数を利用\n",
        "        x = torch.sigmoid(self.fc2(x))\n",
        "        return x"
      ]
    },
    {
      "cell_type": "markdown",
      "metadata": {
        "id": "L9cXUsTrzHby"
      },
      "source": [
        "## ミニバッチ生成関数"
      ]
    },
    {
      "cell_type": "code",
      "execution_count": null,
      "metadata": {
        "id": "yuv4Bbp3zHby"
      },
      "outputs": [],
      "source": [
        "def gen_minibatch():\n",
        "    inputs = torch.bernoulli(0.5 * torch.ones(mbs, 2))  # 入力：0 or 1どちらかの値を出す乱数テンソル(サイズ mbs x 2)\n",
        "    result = torch.Tensor(mbs, 1)   # and関数の理想的な出力を格納するテンソルを作っておく\n",
        "    for j in range(mbs):\n",
        "        if (inputs[j, 0] == 1.0) and (inputs[j, 1] == 1.0):   # 2つの入力がともに1.0のとき\n",
        "            result[j] = 1.0 # 出力（答え）\n",
        "        else:\n",
        "            result[j] = 0.0 # 出力（答え）\n",
        "    return inputs, result"
      ]
    },
    {
      "cell_type": "code",
      "execution_count": null,
      "metadata": {
        "id": "EuCvgpvRzHb1"
      },
      "outputs": [],
      "source": [
        "inputs,result = gen_minibatch() # ミニバッチ生成の実行例\n",
        "print('inputs = ', inputs)\n",
        "print('result = ', result)"
      ]
    },
    {
      "cell_type": "markdown",
      "metadata": {
        "id": "b3DFzcxKzHb4"
      },
      "source": [
        "## 訓練（学習）ループ"
      ]
    },
    {
      "cell_type": "code",
      "execution_count": null,
      "metadata": {
        "id": "1_2OYIKdzHb4"
      },
      "outputs": [],
      "source": [
        "model= Net() # ネットワークインスタンス生成\n",
        "\n",
        "print(model.fc1.weight) # パラメータの初期値(W_1)\n",
        "print(model.fc1.bias) # パラメータの初期値(b_1)\n",
        "print(model.fc2.weight) # パラメータの初期値(W_2)\n",
        "print(model.fc2.bias) # パラメータの初期値(b_2)"
      ]
    },
    {
      "cell_type": "code",
      "execution_count": null,
      "metadata": {
        "id": "HA-0r84Uj692"
      },
      "outputs": [],
      "source": [
        "loss_func = nn.MSELoss() # 損失関数の生成(二乗損失関数)\n",
        "optimizer = optim.Adam(model.parameters(), lr=0.1) # オプティマイザの生成(確率的勾配法としてAdamを利用)，lrは学習率\n",
        "for i in range(1000):\n",
        "    inputs, result = gen_minibatch() # ミニバッチの生成\n",
        "    optimizer.zero_grad()  # オプティマイザの勾配情報初期化\n",
        "    outputs = model(inputs)  # 推論計算\n",
        "    loss = loss_func(outputs, result)  # 損失値の計算\n",
        "    loss.backward()  # 誤差逆伝播法(後ろ向き計算の実行)\n",
        "    optimizer.step()  # パラメータの更新\n",
        "    if i % 100 == 0:\n",
        "        print('i =', i, 'loss =', loss.item())"
      ]
    },
    {
      "cell_type": "markdown",
      "metadata": {
        "id": "rP51GamJzHb6"
      },
      "source": [
        "## 結果表示用の関数"
      ]
    },
    {
      "cell_type": "code",
      "execution_count": null,
      "metadata": {
        "id": "d-lxBfA6zHb6"
      },
      "outputs": [],
      "source": [
        "def display(a,b):   # a,bを入力したときの，学習によって得たニューラルネットワークモデルの出力を確認する\n",
        "    inputs = torch.Tensor(1, 2)\n",
        "    inputs.data[0, 0] = a\n",
        "    inputs.data[0, 1] = b\n",
        "    with torch.no_grad():\n",
        "        outputs = model(inputs)\n",
        "    print('%f & %f = %.4f' % (a, b, outputs.data[0, 0]))"
      ]
    },
    {
      "cell_type": "markdown",
      "metadata": {
        "id": "kNqvXbDazHb8"
      },
      "source": [
        "## 学習結果の評価"
      ]
    },
    {
      "cell_type": "code",
      "execution_count": null,
      "metadata": {
        "id": "wKmwfGLHzHb8"
      },
      "outputs": [],
      "source": [
        "display(0., 0.)\n",
        "display(0., 1.)\n",
        "display(1., 0.)\n",
        "display(1., 1.)"
      ]
    },
    {
      "cell_type": "markdown",
      "metadata": {
        "id": "f3xz8ZK_zHb-"
      },
      "source": [
        "## 学習後の学習可能パラメータの値の表示"
      ]
    },
    {
      "cell_type": "code",
      "execution_count": null,
      "metadata": {
        "id": "fC3fcy63zHb-"
      },
      "outputs": [],
      "source": [
        "print(model.fc1.weight) # 学習結果(W_1)\n",
        "print(model.fc1.bias) # 学習結果(b_1)\n",
        "print(model.fc2.weight) # 学習結果(W_2)\n",
        "print(model.fc2.bias) # 学習結果(b_2)"
      ]
    },
    {
      "cell_type": "markdown",
      "metadata": {
        "id": "U_z490ktzHcA"
      },
      "source": [
        "## 演習問題 4-0\n",
        "\n",
        "上記のコードを実行しつつ、理解せよ。この問題についてはレポートによる報告は必要ない。\n",
        "\n",
        "## 演習問題 4-1\n",
        "\n",
        "学習プロセスにおける反復回数を変えてみて、結果がどのように変わるかまとめよ。（表や図を用いて、結果に関する考察を述べよ。）\n",
        "\n",
        "## 演習問題 4-2\n",
        "\n",
        "学習率を変えてみて学習プロセスを実行し、結果がどのように変わるかまとめよ。（表や図を用いて、結果に関する考察を述べよ。）\n",
        "\n",
        "## 演習問題 4-3\n",
        "\n",
        "OR, XOR関数を学習したい。修正箇所を述べ、実行結果を示せ。（表や図を用いて、AND関数の結果と比較したときの考察を述べよ。）\n",
        "（OR, XORがわからなければGoogle検索してもよい）\n",
        "\n",
        "-----------------\n",
        "\n"
      ]
    },
    {
      "cell_type": "code",
      "execution_count": null,
      "metadata": {
        "id": "urnAaSeXzHcA"
      },
      "outputs": [],
      "source": []
    }
  ],
  "metadata": {
    "colab": {
      "provenance": []
    },
    "kernelspec": {
      "display_name": "Python 3 (ipykernel)",
      "language": "python",
      "name": "python3"
    },
    "language_info": {
      "codemirror_mode": {
        "name": "ipython",
        "version": 3
      },
      "file_extension": ".py",
      "mimetype": "text/x-python",
      "name": "python",
      "nbconvert_exporter": "python",
      "pygments_lexer": "ipython3",
      "version": "3.8.12"
    }
  },
  "nbformat": 4,
  "nbformat_minor": 0
}