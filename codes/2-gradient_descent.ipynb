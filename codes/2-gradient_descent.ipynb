{
  "cells": [
    {
      "cell_type": "markdown",
      "metadata": {
        "id": "nx_7lTtCVUtl",
        "tags": []
      },
      "source": [
        "# 勾配法を動かしてみる"
      ]
    },
    {
      "cell_type": "markdown",
      "metadata": {
        "id": "S6ITx239WQlf"
      },
      "source": [
        "## 1次元の例\n",
        "1次元の目的関数$f(x)=x^2-2x+1=(x-1)^2$の最小化を勾配法で行う。\n",
        "\n",
        "この場合，勾配法を使わずとも$f'(x)=0$を解くことにより$x=1$のとき最小値$f(1)=0$をとるとわかるので、\n",
        "コードがちゃんと動いているかの確認ができる。"
      ]
    },
    {
      "cell_type": "markdown",
      "metadata": {
        "id": "aSiLjzVzshsu"
      },
      "source": [
        "### xの導関数値を返す関数\n",
        "\n",
        "```\n",
        "def 関数の名前（変数）:\n",
        "    〜関数の処理〜\n",
        "    〜関数の処理〜\n",
        "    return 出力（関数の処理が簡単だったら直接ここに書いても良い）\n",
        "```\n",
        "\n"
      ]
    },
    {
      "cell_type": "code",
      "execution_count": null,
      "metadata": {
        "id": "MAE3_EFQWGsv"
      },
      "outputs": [],
      "source": [
        "def grad_x(x):\n",
        "    return 2.0 * x - 2.0\n"
      ]
    },
    {
      "cell_type": "markdown",
      "metadata": {
        "id": "SBb3NXGksln9"
      },
      "source": [
        "### 勾配法の反復計算\n",
        "\n",
        "\n",
        "\n",
        "```\n",
        "for i in range(繰り返し回数):\n",
        "    〜i=0から繰り返し回数-1までの繰り返し処理〜\n",
        "```\n",
        "\n"
      ]
    },
    {
      "cell_type": "code",
      "execution_count": null,
      "metadata": {
        "id": "v-OT2RWRX2Lc"
      },
      "outputs": [],
      "source": [
        "x = 5.0 # 探索点の初期値　[記号シャープ以降はコメントとして認識されるのでメモに使える]\n",
        "alpha = 0.1 # 学習係数\n",
        "\n",
        "for i in range(20):\n",
        "    x = x - alpha * grad_x(x)\n",
        "    print(i, x)"
      ]
    },
    {
      "cell_type": "markdown",
      "metadata": {
        "id": "01qztMINsp8p"
      },
      "source": [
        "### 探索点の軌跡を表示する\n",
        "\n",
        "\n",
        "\n",
        "```\n",
        "# リスト（ベクトル）aへ要素iを追加するとき\n",
        "a.append(i)\n",
        "```\n",
        "\n"
      ]
    },
    {
      "cell_type": "code",
      "execution_count": null,
      "metadata": {
        "id": "XJUxWt07YKvF"
      },
      "outputs": [],
      "source": [
        "x = 5.0\n",
        "alpha = 0.1\n",
        "\n",
        "x_list = []\n",
        "ind_list = []\n",
        "err_list = []\n",
        "for i in range(20):\n",
        "    x = x - alpha * grad_x(x)\n",
        "    x_list.append(x)\n",
        "    ind_list.append(i)\n",
        "    err_list.append((x-1)**2)   # 現在のxと解x=1との二乗誤差, x-1の二乗"
      ]
    },
    {
      "cell_type": "markdown",
      "metadata": {
        "id": "0hqhVQpTx6Q7"
      },
      "source": [
        "\n",
        "\n",
        "```\n",
        "# グラフを書きたい時\n",
        "import matplotlib.pyplot as plt\n",
        "plt.plot(x軸のデータ, y軸のデータ, color=\"グラフの色の名前\", marker=\"グラフのマーカーの種類\")\n",
        "```\n",
        "\n"
      ]
    },
    {
      "cell_type": "code",
      "execution_count": null,
      "metadata": {
        "id": "QgX321lDaEiq"
      },
      "outputs": [],
      "source": [
        "import matplotlib.pyplot as plt\n",
        "plt.plot(ind_list, x_list, color=\"red\", marker=\"o\")\n",
        "plt.xlabel(\"i\")   # x軸のラベルを追加できる\n",
        "plt.ylabel(\"x\")   # y軸のラベルを追加できる"
      ]
    },
    {
      "cell_type": "markdown",
      "metadata": {
        "id": "eRpobdSzszcF"
      },
      "source": [
        "### 二乗誤差値を表示する"
      ]
    },
    {
      "cell_type": "code",
      "execution_count": null,
      "metadata": {
        "id": "uCBAQ2e5aQw4"
      },
      "outputs": [],
      "source": [
        "plt.plot(ind_list, err_list, color=\"red\", marker=\"o\")\n",
        "plt.xlabel(\"i\")\n",
        "plt.ylabel(\"squared error\")\n",
        "plt.grid()            # グリッドを表示できる"
      ]
    },
    {
      "cell_type": "code",
      "execution_count": null,
      "metadata": {
        "id": "geq8sLiIwDuo"
      },
      "outputs": [],
      "source": [
        "err_list"
      ]
    },
    {
      "cell_type": "markdown",
      "metadata": {
        "id": "d03NwsslsTuz"
      },
      "source": [
        "## 2次元の例\n",
        "\n",
        "目的関数 $\\frac 1 2 x^2 +5  y^2$の最小化を行う。"
      ]
    },
    {
      "cell_type": "markdown",
      "metadata": {
        "id": "MFy9U1EXVUtp"
      },
      "source": [
        "### x, yの偏微分値を返す関数"
      ]
    },
    {
      "cell_type": "code",
      "execution_count": null,
      "metadata": {
        "id": "cfIOqn3BVUtq"
      },
      "outputs": [],
      "source": [
        "def grad_x(x):\n",
        "    return x\n",
        "\n",
        "def grad_y(y):\n",
        "    return 10.0 * y"
      ]
    },
    {
      "cell_type": "markdown",
      "metadata": {
        "id": "lpMZ5FfjVUtq"
      },
      "source": [
        "### 勾配法の反復計算"
      ]
    },
    {
      "cell_type": "code",
      "execution_count": null,
      "metadata": {
        "id": "BMh7dyuoVUtr"
      },
      "outputs": [],
      "source": [
        "x = 4.0\n",
        "y = 1.0\n",
        "alpha = 0.18\n",
        "\n",
        "for i in range(20):\n",
        "    x = x - alpha * grad_x(x)\n",
        "    y = y - alpha * grad_y(y)\n",
        "    print(i, x, y)"
      ]
    },
    {
      "cell_type": "markdown",
      "metadata": {
        "id": "tKIhcjKMyDLq"
      },
      "source": [
        "### 探索点の軌跡を表示する"
      ]
    },
    {
      "cell_type": "code",
      "execution_count": null,
      "metadata": {
        "id": "vM9gqSshyDLq"
      },
      "outputs": [],
      "source": [
        "x = 4.0\n",
        "y = 1.0\n",
        "alpha = 0.18\n",
        "\n",
        "x_list = []\n",
        "y_list = []\n",
        "ind_list = []\n",
        "err_list = []\n",
        "for i in range(20):\n",
        "    x = x - alpha * grad_x(x)\n",
        "    y = y - alpha * grad_y(y)\n",
        "    x_list.append(x)\n",
        "    y_list.append(y)\n",
        "    ind_list.append(i)\n",
        "    err_list.append(x*x+y*y)"
      ]
    },
    {
      "cell_type": "code",
      "execution_count": null,
      "metadata": {
        "id": "dl8u33lxyDLr"
      },
      "outputs": [],
      "source": [
        "plt.plot(x_list, y_list, color=\"red\", marker=\"o\")\n",
        "plt.xlabel(\"x\")\n",
        "plt.ylabel(\"y\")"
      ]
    },
    {
      "cell_type": "markdown",
      "metadata": {
        "id": "6rgwnQbWyDLs"
      },
      "source": [
        "### 二乗誤差値を表示する"
      ]
    },
    {
      "cell_type": "code",
      "execution_count": null,
      "metadata": {
        "id": "Ic367zr1yDLt"
      },
      "outputs": [],
      "source": [
        "plt.plot(ind_list, err_list, color=\"red\", marker=\"o\")\n",
        "plt.grid()"
      ]
    },
    {
      "attachments": {},
      "cell_type": "markdown",
      "metadata": {
        "id": "4snmVUUJyDLu"
      },
      "source": [
        "-------------------------------\n",
        "## 演習問題 2-0\n",
        "\n",
        "上記のコードを実行しつつ、理解せよ。この問題についてはレポートによる報告は必要ない。\n",
        "\n",
        "## 演習問題2-1\n",
        "\n",
        "上の1次元の勾配法のプログラムを少し修正し、下記を報告せよ。また、以降の問題では図や表を使った考察を含めよ。\n",
        "\n",
        "* 学習係数が0.2の場合またはそれ以上に大きい場合を試してみよ。このとき探索点の軌跡と二乗誤差の振る舞いがどう変化するか報告せよ。\n",
        "* 学習係数が小さい場合、例えば、0.05, 0.005の場合を試してみよ。このとき探索点の軌跡と二乗誤差の振る舞いがどう変化するか報告せよ。\n",
        "\n",
        "## 演習問題2-2\n",
        "\n",
        "上の2次元の勾配法のプログラムを少し修正し、下記を報告せよ。\n",
        "\n",
        "* 他の初期点からスタートしてみよ。例えば、x軸上の点(x, y)=(20.0, 0.0)など。いくつか試して，そのとき探索点の軌跡と二乗誤差の振る舞いがどう変化するかを報告せよ。\n",
        "--------------------------------"
      ]
    },
    {
      "cell_type": "code",
      "execution_count": null,
      "metadata": {
        "id": "KWfDetPgyDLu"
      },
      "outputs": [],
      "source": []
    }
  ],
  "metadata": {
    "colab": {
      "collapsed_sections": [],
      "name": "2-gradient_descent.ipynb",
      "provenance": []
    },
    "kernel_info": {
      "name": "python3"
    },
    "kernelspec": {
      "display_name": "Python 3 (ipykernel)",
      "language": "python",
      "name": "python3"
    },
    "language_info": {
      "codemirror_mode": {
        "name": "ipython",
        "version": 3
      },
      "file_extension": ".py",
      "mimetype": "text/x-python",
      "name": "python",
      "nbconvert_exporter": "python",
      "pygments_lexer": "ipython3",
      "version": "3.8.12"
    },
    "nteract": {
      "version": "0.12.3"
    }
  },
  "nbformat": 4,
  "nbformat_minor": 0
}
