{
  "cells": [
    {
      "cell_type": "markdown",
      "metadata": {
        "id": "-xMjGWZjj0AE"
      },
      "source": [
        "# Pytorchにおけるテンソルとautogradの使い方を理解する"
      ]
    },
    {
      "cell_type": "markdown",
      "metadata": {
        "id": "nI0UXzsukHSi"
      },
      "source": [
        "## パッケージのimport（忘れずに）"
      ]
    },
    {
      "cell_type": "code",
      "execution_count": null,
      "metadata": {
        "id": "vjzuiBtmjL2A"
      },
      "outputs": [],
      "source": [
        "import torch"
      ]
    },
    {
      "cell_type": "markdown",
      "metadata": {
        "id": "jrdSadpVlFbm"
      },
      "source": [
        "## いろいろなテンソル\n",
        "Pytorchでは，行列やベクトルを「テンソル」という型にします．"
      ]
    },
    {
      "cell_type": "code",
      "execution_count": null,
      "metadata": {
        "id": "oPlLhXC8lI5w"
      },
      "outputs": [],
      "source": [
        "zeros_tensor = torch.zeros(5)\n",
        "print(zeros_tensor)\n",
        "\n",
        "ones_tensor = torch.ones(2,3)\n",
        "print(ones_tensor)\n",
        "\n",
        "rand_tensor = torch.rand(2,3)   # 0~1の一様分布からの乱数（サイコロを振って出る目）\n",
        "print(rand_tensor)"
      ]
    },
    {
      "cell_type": "code",
      "execution_count": null,
      "metadata": {
        "id": "vK539lS_jL2B"
      },
      "outputs": [],
      "source": [
        "# リストからも作成可能\n",
        "x_list = [[1, 2],[3, 4]]\n",
        "x_tensor = torch.tensor(x_list)\n",
        "print(x_tensor)"
      ]
    },
    {
      "cell_type": "markdown",
      "metadata": {
        "id": "nuF663lRmDYx"
      },
      "source": [
        "## テンソルの扱い"
      ]
    },
    {
      "cell_type": "code",
      "execution_count": null,
      "metadata": {
        "id": "qcoiLJ3xl1tC"
      },
      "outputs": [],
      "source": [
        "x_tensor.shape    # テンソル x_tensor のサイズの確認"
      ]
    },
    {
      "cell_type": "markdown",
      "metadata": {
        "id": "sSCMERoip_8R"
      },
      "source": [
        "### テンソルの成分の扱い"
      ]
    },
    {
      "cell_type": "code",
      "execution_count": null,
      "metadata": {
        "id": "sDQlFbU9jL2F"
      },
      "outputs": [],
      "source": [
        "x_tensor[0]"
      ]
    },
    {
      "cell_type": "code",
      "execution_count": null,
      "metadata": {
        "id": "l-bFMagGnKEd"
      },
      "outputs": [],
      "source": [
        "x_tensor[:,0]"
      ]
    },
    {
      "cell_type": "code",
      "execution_count": null,
      "metadata": {
        "id": "lAxSMGvjnM2-"
      },
      "outputs": [],
      "source": [
        "x_tensor[:,1] = 0   # 0を代入\n",
        "print(x_tensor)"
      ]
    },
    {
      "cell_type": "markdown",
      "metadata": {
        "id": "2mQWAvtJyhRG"
      },
      "source": [
        "### GPUが使用できれば使用する（使用できなければ使用しない）ように設定できる\n",
        "高速化できたりします．"
      ]
    },
    {
      "cell_type": "code",
      "execution_count": null,
      "metadata": {
        "id": "OQHmqmFVjL2F"
      },
      "outputs": [],
      "source": [
        "if torch.cuda.is_available():\n",
        "    x_tensor = x_tensor.to(\"cuda\")"
      ]
    },
    {
      "cell_type": "markdown",
      "metadata": {
        "id": "ihK1fQiAqENw"
      },
      "source": [
        "### テンソル演算\n",
        "\n",
        "行列の足し算は$\\begin{bmatrix}a & b\\\\ c & d\\end{bmatrix}+\\begin{bmatrix}w & x\\\\ y & z\\end{bmatrix}=\\begin{bmatrix}a+w & b+x\\\\ c+y & d+z\\end{bmatrix}$"
      ]
    },
    {
      "cell_type": "code",
      "execution_count": null,
      "metadata": {
        "id": "9S7v3pj7n2f8"
      },
      "outputs": [],
      "source": [
        "x_list = [[1, 2],[3, 4]]\n",
        "x_tensor = torch.tensor(x_list)\n",
        "y_list = [[5, 6],[7, 8]]\n",
        "y_tensor = torch.tensor(y_list)\n",
        "\n",
        "x_tensor + y_tensor"
      ]
    },
    {
      "cell_type": "markdown",
      "metadata": {
        "id": "od3Uq0qG48M6"
      },
      "source": [
        "行列の掛け算は\n",
        "$\\begin{bmatrix}a & b\\\\ c & d\\end{bmatrix}\\begin{bmatrix}w & x\\\\ y & z\\end{bmatrix}=\\begin{bmatrix}aw+by & ax+bz\\\\ cw+dy & cx+dz\\end{bmatrix}$だが．．．"
      ]
    },
    {
      "cell_type": "code",
      "execution_count": null,
      "metadata": {
        "id": "fuoZfpKGotYI"
      },
      "outputs": [],
      "source": [
        "print(x_tensor * y_tensor)\n",
        "print(torch.mul(x_tensor, y_tensor))"
      ]
    },
    {
      "cell_type": "code",
      "execution_count": null,
      "metadata": {
        "id": "cw1w5Vtko6pu"
      },
      "outputs": [],
      "source": [
        "torch.matmul(x_tensor,y_tensor)"
      ]
    },
    {
      "cell_type": "markdown",
      "metadata": {
        "id": "FhYcnZdzvoDo"
      },
      "source": [
        "## 自動微分autogradの使用\n",
        "\n",
        "前回のように微分結果を出力するコードを自分で書かなくても、自動で計算してくれる。"
      ]
    },
    {
      "cell_type": "markdown",
      "metadata": {
        "id": "QMC4Y3iCp2KR"
      },
      "source": [
        "### $f(x,y) = \\frac{1}{2}x^2-5y^2$の最小化をautogradで実行\n",
        "\n",
        "autogradを使って$f(x,y)$を微分した結果が$\\frac{\\partial f}{\\partial x}=x, \\frac{\\partial f}{\\partial y}=-10y$になっているか確認する。"
      ]
    },
    {
      "cell_type": "code",
      "execution_count": null,
      "metadata": {
        "id": "XiGqc02aqzU9"
      },
      "outputs": [],
      "source": [
        "x = torch.tensor(2.0, requires_grad=True)\n",
        "y = torch.tensor(-1.0, requires_grad=True)\n",
        "print(x)\n",
        "print(y)"
      ]
    },
    {
      "cell_type": "code",
      "execution_count": null,
      "metadata": {
        "id": "VM4pwXL5tUde"
      },
      "outputs": [],
      "source": [
        "f = 1/2 * x**2 - 5 * y**2\n",
        "print(f)\n",
        "\n",
        "f.backward()    # 逆伝搬の計算\n",
        "print(x.grad)   # df/dxの値\n",
        "print(y.grad)   # dfdyの値"
      ]
    },
    {
      "cell_type": "markdown",
      "metadata": {
        "id": "szHoi6bCuuFc"
      },
      "source": [
        "### $f(\\mathbf{x},\\mathbf{y})=\\frac{1}{2}(x_1^2+x_2^2)-5(y_1^2+y_2^2)$の最小化をautogradで実行\n",
        "\n",
        "多次元の$\\mathbf{x}=[x_1,x_2],\\mathbf{y}=[y_1,y_2]$でも同様に使用できる。"
      ]
    },
    {
      "cell_type": "code",
      "execution_count": null,
      "metadata": {
        "id": "zKbjvzWMvAsJ"
      },
      "outputs": [],
      "source": [
        "x_list = [2.0, 4.0]\n",
        "y_list = [-1.0, -2.0]\n",
        "x = torch.tensor(x_list, requires_grad=True)\n",
        "y = torch.tensor(y_list, requires_grad=True)\n",
        "print(x)\n",
        "print(y)"
      ]
    },
    {
      "cell_type": "code",
      "execution_count": null,
      "metadata": {
        "id": "VhqBNRAsvVTR"
      },
      "outputs": [],
      "source": [
        "f = 1/2 * (x[0]**2 + x[1]**2) - 5 * (y[0]**2 + y[1]**2)\n",
        "print(f)\n",
        "\n",
        "f.backward()    # 逆伝搬の計算\n",
        "print(x.grad)   # [df/dx1, df/dx2]の値\n",
        "print(y.grad)   # [df/dy1, df/dy2]の値"
      ]
    },
    {
      "cell_type": "markdown",
      "metadata": {
        "id": "Mug1l13sqx1M"
      },
      "source": [
        "-------------------------------\n",
        "## 演習問題 3-0\n",
        "\n",
        "上記のコードを実行しつつ、理解せよ。この問題についてはレポートによる報告は必要ない。\n",
        "\n",
        "## 演習問題3-1\n",
        "\n",
        "下記をautogradにより計算した結果を報告せよ。また、自身で微分を計算し検算した結果も報告せよ。\n",
        "\n",
        "* `x = torch.tensor(2.0, requires_grad=True)`\n",
        "としたときの、$\\frac{d(\\log(x))}{dx}$の値（ヒント：$\\log(x)$の計算には`torch.log(x)`を使える）\n",
        "* `x = torch.tensor(3.0, requires_grad=True)`\n",
        "としたときの、$\\frac{d(\\log(x)\\cdot\\sin(x))}{dx}$の値（ヒント：$\\sin(x)$と$\\cos(x)$の計算には`torch.sin(x)`と`torch.cos(x)`を使える）\n",
        "--------------------------------"
      ]
    },
    {
      "cell_type": "markdown",
      "source": [
        "## 追加の演習問題\n",
        "多変数の関数でlogやsinを含むものを作成し，自動微分せよ．検算した結果とも比較せよ．\n",
        "\n",
        "例えば演習問題3-1の関数を多変数にするなど．"
      ],
      "metadata": {
        "id": "8O6cft6qSc5l"
      }
    }
  ],
  "metadata": {
    "colab": {
      "collapsed_sections": [],
      "provenance": []
    },
    "kernelspec": {
      "display_name": "Python 3",
      "language": "python",
      "name": "python3"
    },
    "language_info": {
      "codemirror_mode": {
        "name": "ipython",
        "version": 3
      },
      "file_extension": ".py",
      "mimetype": "text/x-python",
      "name": "python",
      "nbconvert_exporter": "python",
      "pygments_lexer": "ipython3",
      "version": "3.9.9"
    }
  },
  "nbformat": 4,
  "nbformat_minor": 0
}