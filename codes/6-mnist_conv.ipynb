{
  "cells": [
    {
      "cell_type": "markdown",
      "metadata": {
        "id": "SJdYJmQj0vck"
      },
      "source": [
        "# MNIST数字認識 (畳み込みNNの利用)"
      ]
    },
    {
      "cell_type": "markdown",
      "metadata": {
        "id": "5-oRMK8T0vcm"
      },
      "source": [
        "## 必要なパッケージをインポート"
      ]
    },
    {
      "cell_type": "code",
      "execution_count": null,
      "metadata": {
        "id": "zhK6ttRE0vcn"
      },
      "outputs": [],
      "source": [
        "import torch\n",
        "import torch.nn as nn\n",
        "from torchvision import datasets, transforms\n",
        "import torch.nn.functional as F\n",
        "import torch.optim as optim\n",
        "import time\n",
        "import matplotlib.pyplot as plt"
      ]
    },
    {
      "cell_type": "markdown",
      "metadata": {
        "id": "HyDRLZWJ0vcu"
      },
      "source": [
        "## グローバル定数の設定"
      ]
    },
    {
      "cell_type": "code",
      "execution_count": null,
      "metadata": {
        "id": "dm8bMv2R0vcv"
      },
      "outputs": [],
      "source": [
        "batch_size = 200                # ミニバッチサイズ\n",
        "sgd_lr = 0.1 # SGDの学習率"
      ]
    },
    {
      "cell_type": "code",
      "execution_count": null,
      "metadata": {
        "id": "YAX_F1bKI5BN"
      },
      "outputs": [],
      "source": [
        "isgpu = False       # True:GPUを使う，False:GPUを使わない, ランタイム->ランタイムのタイプを変更->GPU"
      ]
    },
    {
      "cell_type": "markdown",
      "metadata": {
        "id": "bh8XTl1v0vcz"
      },
      "source": [
        "## データローダの準備 (MNISTデータのダウンロードも含む)"
      ]
    },
    {
      "cell_type": "code",
      "execution_count": null,
      "metadata": {
        "id": "KrOIJ6FE0vc0"
      },
      "outputs": [],
      "source": [
        "root = '.' # mnistデータの置き場所\n",
        "download = True\n",
        "trans = transforms.Compose([transforms.ToTensor(), transforms.Normalize((0.5,), (1.0,))])\n",
        "train_set = datasets.MNIST(root=root, train=True, transform=trans, download=download)\n",
        "test_set = datasets.MNIST(root=root, train=False, transform=trans)\n",
        "# ローダの準備\n",
        "train_loader = torch.utils.data.DataLoader(dataset=train_set, batch_size=batch_size, shuffle=True)\n",
        "test_loader = torch.utils.data.DataLoader(dataset=test_set, batch_size=batch_size, shuffle=False)"
      ]
    },
    {
      "cell_type": "markdown",
      "metadata": {
        "id": "c3r7qhCP0vc3"
      },
      "source": [
        "## データの中身を表示してみる"
      ]
    },
    {
      "cell_type": "code",
      "execution_count": null,
      "metadata": {
        "id": "pWyZotC80vc3"
      },
      "outputs": [],
      "source": [
        "data_iter = iter(train_loader)"
      ]
    },
    {
      "cell_type": "code",
      "execution_count": null,
      "metadata": {
        "id": "6FSJJawb0vc6"
      },
      "outputs": [],
      "source": [
        "images, labels = next(data_iter)\n",
        "npimg = images[0].numpy()\n",
        "npimg = npimg.reshape((28, 28))\n",
        "plt.imshow(npimg, cmap='gray')\n",
        "print('Label:', labels[0].item())"
      ]
    },
    {
      "cell_type": "markdown",
      "metadata": {
        "id": "YiZ24BM60vc9"
      },
      "source": [
        "## モデルの定義\n"
      ]
    },
    {
      "cell_type": "code",
      "execution_count": null,
      "metadata": {
        "id": "gIi2nnZR0vc-"
      },
      "outputs": [],
      "source": [
        "class Net(nn.Module): \n",
        "    def __init__(self):\n",
        "        super(Net, self).__init__() \n",
        "        self.conv1 = nn.Conv2d(1, 2, 3) # 28x28x1 -> 26x26x2\n",
        "        self.conv2 = nn.Conv2d(2, 3, 3) # 26x26x3 -> 24x24x3\n",
        "        self.pool = nn.MaxPool2d(2, 2) # 24x24x3 -> 12x12x3\n",
        "        self.fc1 = nn.Linear(12 * 12 * 3, 16)\n",
        "        self.fc2 = nn.Linear(16, 10)\n",
        "\n",
        "    def forward(self, x):\n",
        "        x = F.relu(self.conv1(x)) #　第１畳み込み層\n",
        "        x = F.relu(self.conv2(x)) # 第２畳み込み層\n",
        "        x = self.pool(x) # プーリング層\n",
        "        x = x.view(-1, 12 * 12 * 3)\n",
        "        x = F.relu(self.fc1(x)) #全結合層 1\n",
        "        x = self.fc2(x) # 全結合層 2\n",
        "        return F.log_softmax(x, dim=1)"
      ]
    },
    {
      "cell_type": "markdown",
      "metadata": {
        "id": "GnGWXV5U0vc_"
      },
      "source": [
        "## 訓練ループ"
      ]
    },
    {
      "cell_type": "markdown",
      "metadata": {
        "id": "BYeP2wUf0vdA"
      },
      "source": [
        "学習には結構時間がかかるので、本を読むなりコーヒーを飲むなりして気長に待ちましょう。。。"
      ]
    },
    {
      "cell_type": "code",
      "execution_count": null,
      "metadata": {
        "id": "MY2yDWYF0vdA"
      },
      "outputs": [],
      "source": [
        "model = Net() # モデルのインスタンス生成\n",
        "if isgpu:\n",
        "    model = model.to(\"cuda\")\n",
        "optimizer = optim.SGD(model.parameters(), lr=sgd_lr)\n",
        "running_loss = 0.0\n",
        "i = 0\n",
        "for loop in range(3): # 3エポックの訓練\n",
        "    for (input, target) in train_loader:\n",
        "        i = i + 1\n",
        "        if isgpu:\n",
        "            input = input.to(\"cuda\")\n",
        "            target = target.to(\"cuda\")\n",
        "        optimizer.zero_grad()    # optimizerの初期化\n",
        "        output = model(input)     # 推論計算\n",
        "        loss = F.nll_loss(output, target) # 損失関数の定義\n",
        "        loss.backward()             # バックプロパゲーション(後ろ向き計算)\n",
        "        optimizer.step()            # パラメータ更新\n",
        "        running_loss += loss.item()\n",
        "        if i % 100 == 99:    # print every 100 mini-batches\n",
        "            print('[%5d] loss: %.3f' %\n",
        "                  (i + 1, running_loss / 100))\n",
        "            running_loss = 0.0"
      ]
    },
    {
      "cell_type": "markdown",
      "metadata": {
        "id": "9ASRDFn10vdB"
      },
      "source": [
        "## 精度の評価"
      ]
    },
    {
      "cell_type": "code",
      "execution_count": null,
      "metadata": {
        "id": "1zFiIJP10vdC"
      },
      "outputs": [],
      "source": [
        "correct =  0 # 正解数\n",
        "count = 0 # 試行数\n",
        "with torch.no_grad():\n",
        "    for (input, target) in test_loader:\n",
        "        if isgpu:\n",
        "            input = input.to(\"cuda\")\n",
        "            target = target.to(\"cuda\")\n",
        "        output = model(input)     # 推論計算\n",
        "        pred = output.argmax(dim=1)\n",
        "        correct += pred.eq(target.data).sum()\n",
        "        count += batch_size\n",
        "print ('accuracy = ', float(correct)/float(count)) # 正解率の表示"
      ]
    },
    {
      "cell_type": "markdown",
      "metadata": {
        "id": "WirHyeMt0vdE"
      },
      "source": [
        "## テスト認識を実施してみる"
      ]
    },
    {
      "cell_type": "code",
      "execution_count": null,
      "metadata": {
        "id": "4P13dIMh0vdE"
      },
      "outputs": [],
      "source": [
        "test_iter = iter(test_loader)"
      ]
    },
    {
      "cell_type": "code",
      "execution_count": null,
      "metadata": {
        "id": "UZoeGqNT0vdF"
      },
      "outputs": [],
      "source": [
        "input, labels = next(test_iter)\n",
        "if isgpu:\n",
        "    input = input.to(\"cuda\")\n",
        "output = model(input)     # 推論計算\n",
        "pred = output.argmax(dim=1)\n",
        "input = input.to(\"cpu\")\n",
        "plt.imshow(input[0].numpy().reshape(28, 28), cmap='gray')\n",
        "print('True      Label:', labels[0].item())\n",
        "print('Estimated Label:', pred[0].item())"
      ]
    },
    {
      "cell_type": "markdown",
      "metadata": {
        "id": "pajePcMx0vdH"
      },
      "source": [
        "---------------------"
      ]
    },
    {
      "cell_type": "markdown",
      "metadata": {
        "id": "5G-HVRqQ0vdH"
      },
      "source": [
        "\n",
        "## 演習問題 6-0\n",
        "\n",
        "上記のコードを実行しつつ、理解せよ。この問題についてはレポートによる報告は必要ない。\n",
        "\n",
        "## 演習問題 6-1 \n",
        "\n",
        "正解率99%超を目指して工夫してみよ。その工夫（どこをどのように変更したか）と正解率、結果の傾向等に関する考察をレポートにまとめよ。 図や表を用いても良い。\n",
        "\n",
        "ヒント\n",
        "\n",
        "*   前回の演習問題5-3と同様に、ネットワークの層の数やカーネルサイズなど、アーキテクチャとして様々なものを検討できる。バッチサイズや学習率も変更可能。\n",
        "\n",
        "## 演習問題 6-2 \n",
        "\n",
        "この研究室ローテーションを通して学んだことをかんたんにまとめよ。\n",
        "\n",
        "## 演習問題 6-3 \n",
        "\n",
        "この研究室ローテーションの感想をかんたんにまとめよ。\n",
        "\n",
        "\n",
        "\n",
        "-------------------\n"
      ]
    },
    {
      "cell_type": "code",
      "execution_count": null,
      "metadata": {
        "id": "Yd8KvrZG0vdH"
      },
      "outputs": [],
      "source": []
    }
  ],
  "metadata": {
    "colab": {
      "collapsed_sections": [],
      "provenance": []
    },
    "gpuClass": "standard",
    "kernelspec": {
      "display_name": "Python 3.9.9 ('graphFL')",
      "language": "python",
      "name": "python3"
    },
    "language_info": {
      "codemirror_mode": {
        "name": "ipython",
        "version": 3
      },
      "file_extension": ".py",
      "mimetype": "text/x-python",
      "name": "python",
      "nbconvert_exporter": "python",
      "pygments_lexer": "ipython3",
      "version": "3.9.9"
    },
    "vscode": {
      "interpreter": {
        "hash": "fc59c402149f1c01ce91a63f1dbe03e9758e091a8a1f34899ace62a5594682c2"
      }
    }
  },
  "nbformat": 4,
  "nbformat_minor": 0
}
