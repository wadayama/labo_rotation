{
  "cells": [
    {
      "cell_type": "markdown",
      "metadata": {
        "id": "TYmU5UHoyDLH"
      },
      "source": [
        "# Google Colab + Python 入門\n",
        "\n",
        "このノートブックの目標は、Google Colabの利用法に慣れることとPythonの簡単な入門です。"
      ]
    },
    {
      "cell_type": "markdown",
      "source": [
        "C言語よりも直感的にコードが書ける．（たとえば，型の宣言は基本的に必要ない）\n",
        "\n",
        "数式のまま実装できる．結果を出力したいときはprint()を使う．"
      ],
      "metadata": {
        "id": "e0_r3wk0qToJ"
      }
    },
    {
      "cell_type": "code",
      "execution_count": null,
      "metadata": {
        "id": "Zyq5wscWyDLI"
      },
      "outputs": [],
      "source": [
        "a = 1"
      ]
    },
    {
      "cell_type": "code",
      "execution_count": null,
      "metadata": {
        "id": "Wl2kZAyPyDLM"
      },
      "outputs": [],
      "source": [
        "b = 1"
      ]
    },
    {
      "cell_type": "code",
      "execution_count": null,
      "metadata": {
        "id": "T_gZnxOzyDLQ"
      },
      "outputs": [],
      "source": [
        "c = a + b"
      ]
    },
    {
      "cell_type": "code",
      "execution_count": null,
      "metadata": {
        "id": "NIZ3GOtmyDLS"
      },
      "outputs": [],
      "source": [
        "print(c)"
      ]
    },
    {
      "cell_type": "markdown",
      "metadata": {
        "id": "H2K4kMglyDLV"
      },
      "source": [
        "## 高級関数電卓としてpythonを利用する"
      ]
    },
    {
      "cell_type": "code",
      "execution_count": null,
      "metadata": {
        "id": "-3V_zE-myDLV"
      },
      "outputs": [],
      "source": [
        "import math # 数学関数を利用する場合はmath をimport する．"
      ]
    },
    {
      "cell_type": "code",
      "execution_count": null,
      "metadata": {
        "id": "cKs79LX-yDLX"
      },
      "outputs": [],
      "source": [
        "# 使い方は math.関数\n",
        "print(math.sqrt(c))   # 関数sqrt()は平方根を計算できる"
      ]
    },
    {
      "cell_type": "markdown",
      "metadata": {
        "id": "x5KGO-QIyDLY"
      },
      "source": [
        "## ループの作り方\n",
        "\n",
        "Python では「ブロック」はインデント（字下げ）で作ります。Tabを使うのが一般的です。"
      ]
    },
    {
      "cell_type": "code",
      "execution_count": null,
      "metadata": {
        "id": "L2hPnaBZyDLY"
      },
      "outputs": [],
      "source": [
        "sum = 0\n",
        "for i in range(10):   # range()のカッコの中身がループの繰り返し回数\n",
        "    sum = sum + i\n",
        "    print(i)\n",
        "# ループの中身はインデントを揃える． endは不要"
      ]
    },
    {
      "cell_type": "code",
      "execution_count": null,
      "metadata": {
        "id": "Q_iMKgdOyDLa"
      },
      "outputs": [],
      "source": [
        "print(sum)"
      ]
    },
    {
      "cell_type": "markdown",
      "metadata": {
        "id": "jz10t7lAyDLb"
      },
      "source": [
        "## 条件判定"
      ]
    },
    {
      "cell_type": "code",
      "execution_count": null,
      "metadata": {
        "id": "buhH9JytyDLc"
      },
      "outputs": [],
      "source": [
        "for i in range(10):\n",
        "    if i % 2 == 0:    # %は割った余りを計算する\n",
        "        print(i)"
      ]
    },
    {
      "cell_type": "markdown",
      "metadata": {
        "id": "hA1433fbyDLd"
      },
      "source": [
        "## 関数の定義"
      ]
    },
    {
      "cell_type": "code",
      "execution_count": null,
      "metadata": {
        "id": "wqIyr5XZyDLd"
      },
      "outputs": [],
      "source": [
        "def square_sum(a, b):   # def 関数名(引数):\n",
        "    return a**2 + b**2  # 返り値"
      ]
    },
    {
      "cell_type": "code",
      "execution_count": null,
      "metadata": {
        "id": "KL2-IJPFyDLe"
      },
      "outputs": [],
      "source": [
        "square_sum(1,2)"
      ]
    },
    {
      "cell_type": "markdown",
      "metadata": {
        "id": "AkQmEl2KyDLg"
      },
      "source": [
        "## Pythonの文法についての疑問などは下記参照\n",
        "\n",
        "Python チュートリアル\n",
        "https://docs.python.org/ja/3/tutorial/index.html"
      ]
    },
    {
      "cell_type": "markdown",
      "metadata": {
        "id": "7jqy8UrkyDLg"
      },
      "source": [
        "## リストの取り扱いとグラフの表示\n",
        "リストを作成することで，数値等をまとめて扱うことができます．"
      ]
    },
    {
      "cell_type": "code",
      "execution_count": null,
      "metadata": {
        "id": "9Vxb2QivyDLg"
      },
      "outputs": [],
      "source": [
        "a = []    # 空のリストを作成"
      ]
    },
    {
      "cell_type": "code",
      "execution_count": null,
      "metadata": {
        "id": "SfMrrXoMyDLh"
      },
      "outputs": [],
      "source": [
        "for i in range(10):\n",
        "    a.append(i) # リストaの末尾に引数の要素を追加する"
      ]
    },
    {
      "cell_type": "code",
      "execution_count": null,
      "metadata": {
        "id": "21CaR2ELyDLi"
      },
      "outputs": [],
      "source": [
        "print(a)"
      ]
    },
    {
      "cell_type": "code",
      "execution_count": null,
      "metadata": {
        "id": "Tmu28rYSyDLk"
      },
      "outputs": [],
      "source": [
        "b = []\n",
        "for i in range(10):\n",
        "    b.append(i**2)    # X**YはXのY乗\n",
        "print(b)"
      ]
    },
    {
      "cell_type": "code",
      "execution_count": null,
      "metadata": {
        "id": "9pCXeORUsgEv"
      },
      "outputs": [],
      "source": [
        "c = []\n",
        "for i in b:   # リストの要素を取り出せる\n",
        "    print(i)\n",
        "    c.append(i/2)"
      ]
    },
    {
      "cell_type": "code",
      "execution_count": null,
      "metadata": {
        "id": "p6JY0HL6yjZa"
      },
      "outputs": [],
      "source": [
        "print(c)"
      ]
    },
    {
      "cell_type": "markdown",
      "metadata": {
        "id": "nvzDUQTAyDLl"
      },
      "source": [
        "## グラフの描画はmatplotlibを利用する\n",
        "\n",
        "python + matplotlibの組み合わせで簡単に計算結果をグラフとして描画することができる。"
      ]
    },
    {
      "cell_type": "code",
      "execution_count": null,
      "metadata": {
        "id": "2tATyDXByDLl"
      },
      "outputs": [],
      "source": [
        "import matplotlib.pyplot as plt   # 今後の演習で図を作成したい場合も必ずimportを忘れないようにする"
      ]
    },
    {
      "cell_type": "code",
      "execution_count": null,
      "metadata": {
        "id": "Qmfbsa7iyDLm"
      },
      "outputs": [],
      "source": [
        "plt.plot(a, b, color=\"red\", marker=\"o\")"
      ]
    },
    {
      "cell_type": "code",
      "execution_count": null,
      "metadata": {
        "id": "ivkbc9r_tjf8"
      },
      "outputs": [],
      "source": [
        "# 複数のデータをプロットするときは並べて実行\n",
        "plt.plot(a, b, color=\"red\", marker=\"o\")\n",
        "plt.plot(a, c, color=\"green\", marker=\"*\")"
      ]
    },
    {
      "cell_type": "markdown",
      "metadata": {
        "id": "4snmVUUJyDLu"
      },
      "source": [
        "-------------------------------\n",
        "## 演習問題1-0\n",
        "\n",
        "上記のコードを実行しつつ、理解せよ。この問題についてはレポートによる報告は必要ない。\n",
        "\n",
        "## 演習問題1-1\n",
        "\n",
        "1から100までの数の二乗和を計算するpythonのコードを作成し、計算結果を求めよ。\n",
        "\n",
        "## 演習問題1-2\n",
        "0から20までに含まれる奇数からなるリストを条件判定を用いて作成するコードを記述せよ。\n",
        "\n",
        "## 演習問題1-3\n",
        "適当な2つのリストa, bを作成し，a+bを計算するとどのような結果になるか簡潔に記述せよ。\n",
        "\n",
        "--------------------------------\n",
        "\n",
        "## 時間が余った人用追加の演習課題\n",
        "リストは複数の値をまとめたベクトルとみなすことができる．\n",
        "ベクトルの足し算をリストで実行したい場合，どのようなコードを書けばよいか簡潔に記述せよ．\n",
        "\n",
        "## 時間が余った人用追加の演習課題２\n",
        "リストを使って2x2行列と2x1ベクトルの積を計算するにはどのようなコードを書けばよいか簡潔に記述せよ．\n",
        "\n",
        "--------------------------------"
      ]
    }
  ],
  "metadata": {
    "colab": {
      "provenance": []
    },
    "kernel_info": {
      "name": "python3"
    },
    "kernelspec": {
      "display_name": "Python 3 (ipykernel)",
      "language": "python",
      "name": "python3"
    },
    "language_info": {
      "codemirror_mode": {
        "name": "ipython",
        "version": 3
      },
      "file_extension": ".py",
      "mimetype": "text/x-python",
      "name": "python",
      "nbconvert_exporter": "python",
      "pygments_lexer": "ipython3",
      "version": "3.8.12"
    },
    "nteract": {
      "version": "0.12.3"
    }
  },
  "nbformat": 4,
  "nbformat_minor": 0
}