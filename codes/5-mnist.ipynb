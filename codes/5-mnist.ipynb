{
  "cells": [
    {
      "cell_type": "markdown",
      "metadata": {
        "id": "bEMCuY5pzyoq"
      },
      "source": [
        "# MNIST数字認識のシンプルなコード"
      ]
    },
    {
      "cell_type": "markdown",
      "metadata": {
        "id": "Z3XIWFBPzyos"
      },
      "source": [
        "## 必要なパッケージをインポート"
      ]
    },
    {
      "cell_type": "code",
      "execution_count": null,
      "metadata": {
        "id": "Ul-jZPZOzyot"
      },
      "outputs": [],
      "source": [
        "import torch\n",
        "import torch.nn as nn\n",
        "from torchvision import datasets, transforms\n",
        "import torch.nn.functional as F\n",
        "import torch.optim as optim\n",
        "import time\n",
        "import matplotlib.pyplot as plt"
      ]
    },
    {
      "cell_type": "markdown",
      "metadata": {
        "id": "HxB7CaKozyoz"
      },
      "source": [
        "## グローバル定数の設定"
      ]
    },
    {
      "cell_type": "code",
      "execution_count": null,
      "metadata": {
        "id": "JgySNTbUzyo0"
      },
      "outputs": [],
      "source": [
        "batch_size = 200                # ミニバッチサイズ\n",
        "sgd_lr = 0.1 # SGDの学習率"
      ]
    },
    {
      "cell_type": "markdown",
      "metadata": {
        "id": "_M8DO6Ybzyo3"
      },
      "source": [
        "## データローダの準備 (MNISTデータのダウンロードも含む)"
      ]
    },
    {
      "cell_type": "code",
      "execution_count": null,
      "metadata": {
        "id": "HkylFukIzyo3"
      },
      "outputs": [],
      "source": [
        "root = '.' # mnistデータの置き場所，このフォルダに置くことを意味する\n",
        "download = True\n",
        "trans = transforms.Compose([transforms.ToTensor(), transforms.Normalize((0.5,), (1.0,))])\n",
        "train_set = datasets.MNIST(root=root, train=True, transform=trans, download=download)\n",
        "test_set = datasets.MNIST(root=root, train=False, transform=trans)\n",
        "# ローダの準備\n",
        "train_loader = torch.utils.data.DataLoader(dataset=train_set, batch_size=batch_size, shuffle=True)\n",
        "test_loader = torch.utils.data.DataLoader(dataset=test_set, batch_size=batch_size, shuffle=False)"
      ]
    },
    {
      "cell_type": "markdown",
      "metadata": {
        "id": "GEkfrUrSzyo6"
      },
      "source": [
        "## データの中身を表示してみる"
      ]
    },
    {
      "cell_type": "code",
      "execution_count": null,
      "metadata": {
        "id": "G8PuE1_2zyo7"
      },
      "outputs": [],
      "source": [
        "data_iter = iter(train_loader)"
      ]
    },
    {
      "cell_type": "code",
      "execution_count": null,
      "metadata": {
        "id": "2d9M_Iqdzyo9"
      },
      "outputs": [],
      "source": [
        "images, labels = next(data_iter)\n",
        "npimg = images[0].numpy()\n",
        "npimg = npimg.reshape((28, 28))\n",
        "plt.imshow(npimg, cmap='gray')\n",
        "print('Label:', labels[0].item())"
      ]
    },
    {
      "cell_type": "markdown",
      "metadata": {
        "id": "YBCmkjkuzypB"
      },
      "source": [
        "## モデルの定義\n"
      ]
    },
    {
      "cell_type": "code",
      "execution_count": null,
      "metadata": {
        "id": "rgm9BeuzzypB"
      },
      "outputs": [],
      "source": [
        "class Net(nn.Module): \n",
        "    def __init__(self):\n",
        "        super(Net, self).__init__() \n",
        "        self.l1 = nn.Linear(784, 32) # 28 x 28 = 784 次元の入力\n",
        "        self.l2 = nn.Linear(32, 16)\n",
        "        self.l3 = nn.Linear(16, 10)\n",
        "\n",
        "    def forward(self, x):\n",
        "        x = torch.sigmoid(self.l1(x))\n",
        "        x = torch.sigmoid(self.l2(x))\n",
        "        x = self.l3(x)\n",
        "        return F.log_softmax(x, dim=1)"
      ]
    },
    {
      "cell_type": "markdown",
      "metadata": {
        "id": "85LVDOZSzypE"
      },
      "source": [
        "## 訓練ループ"
      ]
    },
    {
      "cell_type": "code",
      "execution_count": null,
      "metadata": {
        "id": "XjKjr3cGzypE"
      },
      "outputs": [],
      "source": [
        "model = Net() # モデルのインスタンス生成\n",
        "optimizer = optim.SGD(model.parameters(), lr=sgd_lr)\n",
        "running_loss = 0.0\n",
        "i = 0\n",
        "for loop in range(3): # 3エポックの訓練\n",
        "    for (input, target) in train_loader:\n",
        "        i = i + 1\n",
        "        input = input.view(-1, 28*28) # テンソルのサイズを整える\n",
        "        optimizer.zero_grad()    # optimizerの初期化\n",
        "        output = model(input)     # 推論計算\n",
        "        loss = F.nll_loss(output, target) # 損失関数の定義\n",
        "        loss.backward()             # バックプロパゲーション(後ろ向き計算)\n",
        "        optimizer.step()            # パラメータ更新\n",
        "        running_loss += loss.item()\n",
        "        if i % 100 == 99:    # print every 100 mini-batches\n",
        "            print('[%5d] loss: %.3f' %\n",
        "                  (i + 1, running_loss / 100))\n",
        "            running_loss = 0.0"
      ]
    },
    {
      "cell_type": "markdown",
      "metadata": {
        "id": "TbHI2F6LzypH"
      },
      "source": [
        "## 精度の評価"
      ]
    },
    {
      "cell_type": "code",
      "execution_count": null,
      "metadata": {
        "id": "Swl1nbD5zypH"
      },
      "outputs": [],
      "source": [
        "correct =  0 # 正解数\n",
        "count = 0 # 試行数\n",
        "with torch.no_grad():\n",
        "    for (input, target) in test_loader:\n",
        "        input = input.view(-1, 28*28)\n",
        "        output = model(input)     # 推論計算\n",
        "        pred = output.argmax(dim=1)\n",
        "        correct += pred.eq(target.data).sum()\n",
        "        count += batch_size\n",
        "print ('accuracy = ', float(correct)/float(count)) # 正解率の表示"
      ]
    },
    {
      "cell_type": "markdown",
      "metadata": {
        "id": "r8FCKDDSzypJ"
      },
      "source": [
        "## （おまけ）テスト認識を実施してみる\n",
        "\n",
        "入力画像に対して正解出力を出せているか確認する。"
      ]
    },
    {
      "cell_type": "code",
      "execution_count": null,
      "metadata": {
        "id": "i1pcgAnZzypK"
      },
      "outputs": [],
      "source": [
        "test_iter = iter(test_loader)"
      ]
    },
    {
      "cell_type": "code",
      "execution_count": null,
      "metadata": {
        "id": "V3SMoWNvzypL"
      },
      "outputs": [],
      "source": [
        "input, labels = next(test_iter)\n",
        "input = input.view(-1, 28*28)\n",
        "output = model(input)     # 推論計算\n",
        "pred = output.argmax(dim=1)\n",
        "plt.imshow(input[0].numpy().reshape(28, 28), cmap='gray')\n",
        "print('True      Label:', labels[0].item())\n",
        "print('Estimated Label:', pred[0].item())"
      ]
    },
    {
      "cell_type": "markdown",
      "metadata": {
        "id": "3SNOOvX_zypN"
      },
      "source": [
        "---------------------"
      ]
    },
    {
      "cell_type": "markdown",
      "metadata": {
        "id": "538Hqpm5zypO"
      },
      "source": [
        "\n",
        "## 演習問題 5-0\n",
        "\n",
        "上記のコードを実行しつつ、理解せよ。この問題についてはレポートによる報告は必要ない。\n",
        "\n",
        "## 演習問題 5-1 \n",
        "上のコードでは、活性化関数としてsigmoid関数を利用している。ReLU (torch.relu)に替えて実行し、そのときの訓練損失や正解率を報告し、考察せよ。（sigmoid関数やReLU関数の実際の関数形状は第２回のスライドにあります）\n",
        "\n",
        "## 演習問題 5-2\n",
        "以下の演習問題では、ReLU関数を利用したコードを利用せよ。\n",
        "上記のコードの学習プロセスにおいては3エポック(訓練データを一通り全部使い切るのが１エポック) の学習を行なっている。1エポック、５エポックのときはどのような正解率となるか報告し、考察せよ。\n",
        "\n",
        "\n",
        "## 演習問題 5-3\n",
        "層数, 層の次元, 学習率など何を変更してもよいので、正解率の向上を目指せ。どこをどのように工夫したかと，そのときの結果を報告せよ。また、変更に応じて得られた結果の傾向を考察せよ。図や表を用いても良い。\n",
        "\n",
        "-------------------\n"
      ]
    },
    {
      "cell_type": "code",
      "execution_count": null,
      "metadata": {
        "id": "ZIfztxrCKUnu"
      },
      "outputs": [],
      "source": []
    }
  ],
  "metadata": {
    "colab": {
      "collapsed_sections": [],
      "provenance": []
    },
    "kernelspec": {
      "display_name": "Python 3 (ipykernel)",
      "language": "python",
      "name": "python3"
    },
    "language_info": {
      "codemirror_mode": {
        "name": "ipython",
        "version": 3
      },
      "file_extension": ".py",
      "mimetype": "text/x-python",
      "name": "python",
      "nbconvert_exporter": "python",
      "pygments_lexer": "ipython3",
      "version": "3.8.12"
    }
  },
  "nbformat": 4,
  "nbformat_minor": 0
}
